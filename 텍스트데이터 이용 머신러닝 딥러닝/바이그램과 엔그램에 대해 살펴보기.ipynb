{
 "cells": [
  {
   "cell_type": "markdown",
   "id": "23c5192c",
   "metadata": {},
   "source": [
    "요즘 검색엔진들은 검색어에 오타가 있어도 자동으로 수정해 검색결과를 보여준다.\n",
    "바이그램에 대해 알면 이러한 기능의 원리를 살짝 엿볼 수 있다.\n",
    "\n",
    "* 바이그램 : 주로 문자열에서 인접한 두 단어 토큰을 묶은 시퀀스를 말한다."
   ]
  },
  {
   "cell_type": "code",
   "execution_count": 1,
   "id": "a988031d",
   "metadata": {},
   "outputs": [],
   "source": [
    "# 바이그램은 영어단어 임베딩 관련 도구인 nltk 안에 있다.\n",
    "from nltk import bigrams, word_tokenize \n",
    "\n",
    "# 혹은, 엔그램(n개의 토큰을 묶은 시퀀스 생성)을 이용할 수도 있다.\n",
    "from nltk.util import ngrams\n",
    "\n",
    "\n",
    "text = 'i am a boy'\n",
    "\n",
    "tokens = word_tokenize(text) # text로 만들어진 단어토큰들\n",
    "\n",
    "bigrams = bigrams(tokens) # 직전의 단어 토큰과 묶기\n",
    "ngrams = ngrams(tokens, 2) # 지정한 범위를 묶어 토큰화 (이 코드에서는 2개씩)\n"
   ]
  },
  {
   "cell_type": "code",
   "execution_count": 2,
   "id": "74ca162c",
   "metadata": {},
   "outputs": [
    {
     "name": "stdout",
     "output_type": "stream",
     "text": [
      "[('i', 'am'), ('am', 'a'), ('a', 'boy')] [('i', 'am'), ('am', 'a'), ('a', 'boy')]\n"
     ]
    }
   ],
   "source": [
    "# 바이그램, 엔그램을 이용해 만들어진 시퀀스들을 출력해 확인해보자.\n",
    "print(list(bigrams),list(ngrams))"
   ]
  },
  {
   "cell_type": "markdown",
   "id": "1ca39e90",
   "metadata": {},
   "source": [
    "- 파라미터 pad_left, pad_right\n",
    "    엔그램을 이용해 묶은 시퀀스 앞뒤로 칸을 추가하는 패딩 작업을 해줄 수도 있다.\n",
    "\n",
    "- 파라미터 left_pad_symbol, right_pad_symbol\n",
    "    시퀀스 앞뒤에 추가한 패드를 임의의 문자열로 변경할 수 있다."
   ]
  },
  {
   "cell_type": "code",
   "execution_count": 3,
   "id": "6a1bab67",
   "metadata": {},
   "outputs": [
    {
     "data": {
      "text/plain": [
       "[('SS', 'i'), ('i', 'am'), ('am', 'a'), ('a', 'boy'), ('boy', 'SE')]"
      ]
     },
     "execution_count": 3,
     "metadata": {},
     "output_type": "execute_result"
    }
   ],
   "source": [
    "from nltk.util import ngrams\n",
    "\n",
    "ngrams_2 = ngrams(tokens, 2, pad_left=True, pad_right=True, left_pad_symbol=\"SS\", right_pad_symbol=\"SE\") \n",
    "list(ngrams_2)"
   ]
  },
  {
   "cell_type": "markdown",
   "id": "b3bc339f",
   "metadata": {},
   "source": [
    "nltk의 ConditionalFreqDist 모델은 데이터를 통해 학습하고 나면 문맥에서 다음 단어가 무엇이 나올지 알려준다.\n",
    "\n",
    "이와 같은 기능을 응용하여 검색엔진 서비스나 스마트 키보드의 자동완성 기능을 만들 수 있을 것이다."
   ]
  },
  {
   "cell_type": "code",
   "execution_count": 4,
   "id": "19ee8f2a",
   "metadata": {},
   "outputs": [
    {
     "data": {
      "text/plain": [
       "[None, 'i', 'am', 'a', 'boy']"
      ]
     },
     "execution_count": 4,
     "metadata": {},
     "output_type": "execute_result"
    }
   ],
   "source": [
    "# ConditionalFreqDist 역시 nltk 안에 있다.\n",
    "\n",
    "from nltk import ConditionalFreqDist\n",
    "\n",
    "text = 'i am a boy' \n",
    "tokens = word_tokenize(text) # 문장 -> 단어토큰화\n",
    "\n",
    "ngrams_3 = ngrams(tokens, 2, pad_left=True, pad_right=True) # 엔그램 시퀀스들 생성\n",
    "\n",
    "CFD_model = ConditionalFreqDist([(i[0],i[1]) for i in ngrams_3]) # 모델 생성 및 학습\n",
    "\n",
    "CFD_model.conditions() # 학습된 결과물"
   ]
  },
  {
   "cell_type": "markdown",
   "id": "4beaca86",
   "metadata": {},
   "source": [
    "지금은 고작 한 문장으로만 학습이 진행됐을 뿐이지만, \n",
    "방대한 데이터를 통해 학습이 이루어진다면 강력한 성능을 발휘할 수 있을 것이다."
   ]
  },
  {
   "cell_type": "code",
   "execution_count": 5,
   "id": "f684ee95",
   "metadata": {},
   "outputs": [
    {
     "data": {
      "text/plain": [
       "FreqDist({'am': 1})"
      ]
     },
     "execution_count": 5,
     "metadata": {},
     "output_type": "execute_result"
    }
   ],
   "source": [
    "CFD_model['i'] # 'i' 다음으로 올 수 있는 단어는? "
   ]
  },
  {
   "cell_type": "code",
   "execution_count": null,
   "id": "8cb63a9a",
   "metadata": {},
   "outputs": [],
   "source": []
  }
 ],
 "metadata": {
  "kernelspec": {
   "display_name": "Python 3 (ipykernel)",
   "language": "python",
   "name": "python3"
  },
  "language_info": {
   "codemirror_mode": {
    "name": "ipython",
    "version": 3
   },
   "file_extension": ".py",
   "mimetype": "text/x-python",
   "name": "python",
   "nbconvert_exporter": "python",
   "pygments_lexer": "ipython3",
   "version": "3.9.7"
  }
 },
 "nbformat": 4,
 "nbformat_minor": 5
}
